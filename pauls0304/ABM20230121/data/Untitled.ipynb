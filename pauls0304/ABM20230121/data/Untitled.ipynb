{
 "cells": [
  {
   "cell_type": "code",
   "execution_count": 7,
   "id": "34d60cb5-b65b-4ddf-9622-2121b0fca395",
   "metadata": {},
   "outputs": [],
   "source": [
    "import numpy as np \n",
    "import matplotlib.pyplot as plt \n",
    "\n",
    "# set plot options \n",
    "plt.rcParams['figure.figsize'] = (15,15) # Pick something here, bigger than (6.0,4.0)\n",
    "plt.rcParams['font.size'] = 25           # pick something bigger than 10 \n",
    "plt.rcParams['lines.markersize'] = 7     # bigger markers \n",
    "\n",
    "def load_data( index ):\n",
    "    filename = \"output\" + \"%08u\" % index + \".csv\"\n",
    "    print( \"Loading data from \" + filename + \" ...\")\n",
    "    \n",
    "    file = open(filename)\n",
    "    data = np.double( np.loadtxt(file, delimiter=\",\") )\n",
    "    \n",
    "    num_cells,num_cols = data.shape \n",
    "    positions = np.double( data[:,0:2])  \n",
    "    radii =  np.double( data[:,2])  \n",
    "    velocities = np.double( data[:,3:5])  \n",
    "    birth_rates = np.double( data[:,5])  \n",
    "    death_rates = np.double( data[:,6])\n",
    "    mechanics_strengths = np.double( data[:,7])  \n",
    "    \n",
    "    return positions,radii,velocities,birth_rates,death_rates,mechanics_strengths\n"
   ]
  },
  {
   "cell_type": "code",
   "execution_count": 8,
   "id": "a7d093d3-23b7-4101-b8a8-68bb24f9ef08",
   "metadata": {},
   "outputs": [],
   "source": [
    "def plot_cells( positions, radii, velocities ):\n",
    "    plt.scatter( positions[:,0] , positions[:,1] , s=radii*10 )\n",
    "    plt.quiver( np.transpose(positions[:,0]) , np.transpose(positions[:,1]), \n",
    "        np.transpose(velocities[:,0]) , np.transpose(velocities[:,1]) ,\n",
    "        scale=1, headwidth=4,headlength=3,headaxislength=2,width=.003)\n",
    "    scale = 75\n",
    "    m,n = positions.shape \n",
    "    center = [ np.mean( positions[:,0]) , np.mean( positions[:,1]) ]\n",
    "    width = 150; \n",
    "    axes = [center[0]-0.5*width,center[0]+0.5*width, \n",
    "        center[1]-0.5*width,center[1]+0.5*width]\n",
    "    plt.axis(axes)\n",
    "    ax = plt.gca()\n",
    "    ax.set_aspect('equal')\n"
   ]
  },
  {
   "cell_type": "code",
   "execution_count": 11,
   "id": "e8ab24ac-1338-46d1-a133-c5f143749fff",
   "metadata": {},
   "outputs": [],
   "source": [
    "def animate( interval , last_index ):\n",
    "    %matplotlib qt \n",
    "\n",
    "    plt.figure(1)\n",
    "    plt.pause(5)\n",
    "\n",
    "    n = 0\n",
    "    while( n < last_index+1 ):\n",
    "        plt.figure(1)\n",
    "        plt.clf()\n",
    "        positions,radii,velocities,birth_rates,death_rates,mechanics_strengths=load_data(n)\n",
    "        plot_cells( positions, radii, velocities )\n",
    "        plt.title( n ); \n",
    "        plt.pause(0.2)\n",
    "        n += interval \n"
   ]
  },
  {
   "cell_type": "code",
   "execution_count": 12,
   "id": "d9c67ef5-cda0-48ea-a87a-52a6fb05c345",
   "metadata": {},
   "outputs": [
    {
     "name": "stdout",
     "output_type": "stream",
     "text": [
      "Loading data from output00000000.csv ...\n",
      "Loading data from output00000002.csv ...\n",
      "Loading data from output00000004.csv ...\n",
      "Loading data from output00000006.csv ...\n",
      "Loading data from output00000008.csv ...\n",
      "Loading data from output00000010.csv ...\n",
      "Loading data from output00000012.csv ...\n",
      "Loading data from output00000014.csv ...\n",
      "Loading data from output00000016.csv ...\n",
      "Loading data from output00000018.csv ...\n",
      "Loading data from output00000020.csv ...\n",
      "Loading data from output00000022.csv ...\n",
      "Loading data from output00000024.csv ...\n",
      "Loading data from output00000026.csv ...\n",
      "Loading data from output00000028.csv ...\n",
      "Loading data from output00000030.csv ...\n",
      "Loading data from output00000032.csv ...\n",
      "Loading data from output00000034.csv ...\n",
      "Loading data from output00000036.csv ...\n",
      "Loading data from output00000038.csv ...\n",
      "Loading data from output00000040.csv ...\n",
      "Loading data from output00000042.csv ...\n",
      "Loading data from output00000044.csv ...\n",
      "Loading data from output00000046.csv ...\n",
      "Loading data from output00000048.csv ...\n",
      "Loading data from output00000050.csv ...\n",
      "Loading data from output00000052.csv ...\n",
      "Loading data from output00000054.csv ...\n",
      "Loading data from output00000056.csv ...\n",
      "Loading data from output00000058.csv ...\n",
      "Loading data from output00000060.csv ...\n",
      "Loading data from output00000062.csv ...\n",
      "Loading data from output00000064.csv ...\n",
      "Loading data from output00000066.csv ...\n",
      "Loading data from output00000068.csv ...\n",
      "Loading data from output00000070.csv ...\n",
      "Loading data from output00000072.csv ...\n",
      "Loading data from output00000074.csv ...\n",
      "Loading data from output00000076.csv ...\n",
      "Loading data from output00000078.csv ...\n",
      "Loading data from output00000080.csv ...\n",
      "Loading data from output00000082.csv ...\n",
      "Loading data from output00000084.csv ...\n",
      "Loading data from output00000086.csv ...\n",
      "Loading data from output00000088.csv ...\n",
      "Loading data from output00000090.csv ...\n",
      "Loading data from output00000092.csv ...\n",
      "Loading data from output00000094.csv ...\n",
      "Loading data from output00000096.csv ...\n",
      "Loading data from output00000098.csv ...\n",
      "Loading data from output00000100.csv ...\n",
      "Loading data from output00000102.csv ...\n",
      "Loading data from output00000104.csv ...\n",
      "Loading data from output00000106.csv ...\n",
      "Loading data from output00000108.csv ...\n",
      "Loading data from output00000110.csv ...\n",
      "Loading data from output00000112.csv ...\n",
      "Loading data from output00000114.csv ...\n",
      "Loading data from output00000116.csv ...\n",
      "Loading data from output00000118.csv ...\n",
      "Loading data from output00000120.csv ...\n",
      "Loading data from output00000122.csv ...\n",
      "Loading data from output00000124.csv ...\n",
      "Loading data from output00000126.csv ...\n",
      "Loading data from output00000128.csv ...\n",
      "Loading data from output00000130.csv ...\n",
      "Loading data from output00000132.csv ...\n",
      "Loading data from output00000134.csv ...\n",
      "Loading data from output00000136.csv ...\n",
      "Loading data from output00000138.csv ...\n",
      "Loading data from output00000140.csv ...\n",
      "Loading data from output00000142.csv ...\n",
      "Loading data from output00000144.csv ...\n",
      "Loading data from output00000146.csv ...\n",
      "Loading data from output00000148.csv ...\n",
      "Loading data from output00000150.csv ...\n",
      "Loading data from output00000152.csv ...\n",
      "Loading data from output00000154.csv ...\n",
      "Loading data from output00000156.csv ...\n",
      "Loading data from output00000158.csv ...\n",
      "Loading data from output00000160.csv ...\n",
      "Loading data from output00000162.csv ...\n",
      "Loading data from output00000164.csv ...\n",
      "Loading data from output00000166.csv ...\n",
      "Loading data from output00000168.csv ...\n",
      "Loading data from output00000170.csv ...\n",
      "Loading data from output00000172.csv ...\n",
      "Loading data from output00000174.csv ...\n",
      "Loading data from output00000176.csv ...\n",
      "Loading data from output00000178.csv ...\n",
      "Loading data from output00000180.csv ...\n",
      "Loading data from output00000182.csv ...\n",
      "Loading data from output00000184.csv ...\n",
      "Loading data from output00000186.csv ...\n",
      "Loading data from output00000188.csv ...\n",
      "Loading data from output00000190.csv ...\n",
      "Loading data from output00000192.csv ...\n",
      "Loading data from output00000194.csv ...\n",
      "Loading data from output00000196.csv ...\n",
      "Loading data from output00000198.csv ...\n",
      "Loading data from output00000200.csv ...\n",
      "Loading data from output00000202.csv ...\n",
      "Loading data from output00000204.csv ...\n",
      "Loading data from output00000206.csv ...\n",
      "Loading data from output00000208.csv ...\n",
      "Loading data from output00000210.csv ...\n",
      "Loading data from output00000212.csv ...\n",
      "Loading data from output00000214.csv ...\n",
      "Loading data from output00000216.csv ...\n",
      "Loading data from output00000218.csv ...\n",
      "Loading data from output00000220.csv ...\n",
      "Loading data from output00000222.csv ...\n",
      "Loading data from output00000224.csv ...\n",
      "Loading data from output00000226.csv ...\n",
      "Loading data from output00000228.csv ...\n",
      "Loading data from output00000230.csv ...\n",
      "Loading data from output00000232.csv ...\n",
      "Loading data from output00000234.csv ...\n",
      "Loading data from output00000236.csv ...\n",
      "Loading data from output00000238.csv ...\n",
      "Loading data from output00000240.csv ...\n"
     ]
    }
   ],
   "source": [
    "# plot every other frame (interval = 2), up to frame 240: \n",
    "\n",
    "animate( 2 , 240 )\n"
   ]
  },
  {
   "cell_type": "code",
   "execution_count": 21,
   "id": "eb6d4c27-d17c-46dd-8671-1c6f0e3a3e95",
   "metadata": {},
   "outputs": [
    {
     "data": {
      "text/plain": [
       "1339430.764394418"
      ]
     },
     "execution_count": 21,
     "metadata": {},
     "output_type": "execute_result"
    }
   ],
   "source": [
    "1000* np.exp( (0.001)*7200 )"
   ]
  },
  {
   "cell_type": "code",
   "execution_count": 20,
   "id": "65221c45-bc10-413e-a403-72d4c9f07c06",
   "metadata": {},
   "outputs": [
    {
     "data": {
      "text/plain": [
       "588.133557758482"
      ]
     },
     "execution_count": 20,
     "metadata": {},
     "output_type": "execute_result"
    }
   ],
   "source": [
    "4 * np.power( 2, 7.2 ) "
   ]
  },
  {
   "cell_type": "markdown",
   "id": "7731c3c1-5167-4560-aa9c-8d6e7548f57a",
   "metadata": {},
   "source": [
    "##### \n"
   ]
  },
  {
   "cell_type": "code",
   "execution_count": null,
   "id": "0098fd22-e677-4c77-91e4-e7ac0641507e",
   "metadata": {},
   "outputs": [],
   "source": []
  }
 ],
 "metadata": {
  "kernelspec": {
   "display_name": "Python 3 (ipykernel)",
   "language": "python",
   "name": "python3"
  },
  "language_info": {
   "codemirror_mode": {
    "name": "ipython",
    "version": 3
   },
   "file_extension": ".py",
   "mimetype": "text/x-python",
   "name": "python",
   "nbconvert_exporter": "python",
   "pygments_lexer": "ipython3",
   "version": "3.9.12"
  }
 },
 "nbformat": 4,
 "nbformat_minor": 5
}
