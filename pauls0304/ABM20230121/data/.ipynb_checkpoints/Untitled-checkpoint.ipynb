{
 "cells": [
  {
   "cell_type": "code",
   "execution_count": 7,
   "id": "34d60cb5-b65b-4ddf-9622-2121b0fca395",
   "metadata": {},
   "outputs": [],
   "source": [
    "import numpy as np \n",
    "import matplotlib.pyplot as plt \n",
    "\n",
    "# set plot options \n",
    "plt.rcParams['figure.figsize'] = (15,15) # Pick something here, bigger than (6.0,4.0)\n",
    "plt.rcParams['font.size'] = 25           # pick something bigger than 10 \n",
    "plt.rcParams['lines.markersize'] = 7     # bigger markers \n",
    "\n",
    "def load_data( index ):\n",
    "    filename = \"output\" + \"%08u\" % index + \".csv\"\n",
    "    print( \"Loading data from \" + filename + \" ...\")\n",
    "    \n",
    "    file = open(filename)\n",
    "    data = np.double( np.loadtxt(file, delimiter=\",\") )\n",
    "    \n",
    "    num_cells,num_cols = data.shape \n",
    "    positions = np.double( data[:,0:2])  \n",
    "    radii =  np.double( data[:,2])  \n",
    "    velocities = np.double( data[:,3:5])  \n",
    "    birth_rates = np.double( data[:,5])  \n",
    "    death_rates = np.double( data[:,6])\n",
    "    mechanics_strengths = np.double( data[:,7])  \n",
    "    \n",
    "    return positions,radii,velocities,birth_rates,death_rates,mechanics_strengths\n"
   ]
  },
  {
   "cell_type": "code",
   "execution_count": 8,
   "id": "a7d093d3-23b7-4101-b8a8-68bb24f9ef08",
   "metadata": {},
   "outputs": [],
   "source": [
    "def plot_cells( positions, radii, velocities ):\n",
    "    plt.scatter( positions[:,0] , positions[:,1] , s=radii*10 )\n",
    "    plt.quiver( np.transpose(positions[:,0]) , np.transpose(positions[:,1]), \n",
    "        np.transpose(velocities[:,0]) , np.transpose(velocities[:,1]) ,\n",
    "        scale=1, headwidth=4,headlength=3,headaxislength=2,width=.003)\n",
    "    scale = 75\n",
    "    m,n = positions.shape \n",
    "    center = [ np.mean( positions[:,0]) , np.mean( positions[:,1]) ]\n",
    "    width = 150; \n",
    "    axes = [center[0]-0.5*width,center[0]+0.5*width, \n",
    "        center[1]-0.5*width,center[1]+0.5*width]\n",
    "    plt.axis(axes)\n",
    "    ax = plt.gca()\n",
    "    ax.set_aspect('equal')\n"
   ]
  },
  {
   "cell_type": "code",
   "execution_count": 11,
   "id": "e8ab24ac-1338-46d1-a133-c5f143749fff",
   "metadata": {},
   "outputs": [],
   "source": [
    "def animate( interval , last_index ):\n",
    "    %matplotlib qt \n",
    "\n",
    "    plt.figure(1)\n",
    "    plt.pause(5)\n",
    "\n",
    "    n = 0\n",
    "    while( n < last_index+1 ):\n",
    "        plt.figure(1)\n",
    "        plt.clf()\n",
    "        positions,radii,velocities,birth_rates,death_rates,mechanics_strengths=load_data(n)\n",
    "        plot_cells( positions, radii, velocities )\n",
    "        plt.title( n ); \n",
    "        plt.pause(0.2)\n",
    "        n += interval \n"
   ]
  },
  {
   "cell_type": "code",
   "execution_count": null,
   "id": "d9c67ef5-cda0-48ea-a87a-52a6fb05c345",
   "metadata": {},
   "outputs": [],
   "source": []
  },
  {
   "cell_type": "code",
   "execution_count": null,
   "id": "eb6d4c27-d17c-46dd-8671-1c6f0e3a3e95",
   "metadata": {},
   "outputs": [],
   "source": []
  }
 ],
 "metadata": {
  "kernelspec": {
   "display_name": "Python 3 (ipykernel)",
   "language": "python",
   "name": "python3"
  },
  "language_info": {
   "codemirror_mode": {
    "name": "ipython",
    "version": 3
   },
   "file_extension": ".py",
   "mimetype": "text/x-python",
   "name": "python",
   "nbconvert_exporter": "python",
   "pygments_lexer": "ipython3",
   "version": "3.9.12"
  }
 },
 "nbformat": 4,
 "nbformat_minor": 5
}
